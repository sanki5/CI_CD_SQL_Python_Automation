{
 "cells": [
  {
   "cell_type": "code",
   "execution_count": 1,
   "metadata": {},
   "outputs": [],
   "source": [
    "import os\n",
    "from natsort import natsorted"
   ]
  },
  {
   "cell_type": "code",
   "execution_count": 2,
   "metadata": {},
   "outputs": [],
   "source": [
    "path = '/Users/sanketkisansanap/personal_projects/CI_CD_SQL_Python_Automation/sql_scripts/Build 1'"
   ]
  },
  {
   "cell_type": "code",
   "execution_count": 4,
   "metadata": {},
   "outputs": [],
   "source": [
    "def check_sql_ssissql_directory(path) :\n",
    "    SQL = False\n",
    "    SSISSQL = False \n",
    "    print(path)\n",
    "    for directories in os.listdir(path) :\n",
    "\n",
    "        if(directories.strip() == 'SQL' ) :\n",
    "            print('SQL scripts are present under path')\n",
    "            SQL = True\n",
    "        elif(directories.strip() == 'SSISSQL' ) :\n",
    "            print('SSISSQL scripts are present under path')\n",
    "            SSISSQL = True\n",
    "        else :\n",
    "             pass\n",
    "            \n",
    "    return SQL , SSISSQL"
   ]
  },
  {
   "cell_type": "code",
   "execution_count": 5,
   "metadata": {},
   "outputs": [
    {
     "name": "stdout",
     "output_type": "stream",
     "text": [
      "/Users/sanketkisansanap/personal_projects/CI_CD_SQL_Python_Automation/sql_scripts/Build 1\n",
      "SSISSQL scripts are present under path\n",
      "SQL scripts are present under path\n"
     ]
    }
   ],
   "source": [
    "SQL , SSISSQL = check_sql_ssissql_directory(path)"
   ]
  },
  {
   "cell_type": "code",
   "execution_count": 6,
   "metadata": {},
   "outputs": [],
   "source": [
    "def get_SQL_SSISSQL_paths(path ,SQL , SSISSQL) :\n",
    "    global  sql_path\n",
    "    global  ssissql_path\n",
    "    \n",
    "    #Check and Create the SQL path \n",
    "    if(SQL == True) :\n",
    "        sql_path = path+'/SQL/'\n",
    "    elif(SQL == False):\n",
    "        sql_path = ''\n",
    "    else :\n",
    "        pass \n",
    "    \n",
    "    \n",
    "    #Check and Create the SSIS-SQL path \n",
    "    if(SSISSQL == True) :\n",
    "        ssissql_path = path+'/SSISSQL/'  \n",
    "    \n",
    "    elif(SSISSQL == False):\n",
    "        ssissql_path = ''\n",
    "    else :\n",
    "        pass \n",
    "    \n",
    "    return sql_path , ssissql_path"
   ]
  },
  {
   "cell_type": "code",
   "execution_count": 7,
   "metadata": {},
   "outputs": [],
   "source": [
    "sql_path , ssissql_path = get_SQL_SSISSQL_paths(path , SQL , SSISSQL)"
   ]
  },
  {
   "cell_type": "code",
   "execution_count": 8,
   "metadata": {},
   "outputs": [
    {
     "data": {
      "text/plain": [
       "'/Users/sanketkisansanap/personal_projects/CI_CD_SQL_Python_Automation/sql_scripts/Build 1/SQL/'"
      ]
     },
     "execution_count": 8,
     "metadata": {},
     "output_type": "execute_result"
    }
   ],
   "source": [
    "sql_path"
   ]
  },
  {
   "cell_type": "code",
   "execution_count": 9,
   "metadata": {},
   "outputs": [],
   "source": [
    "def list_sql_ssissql_files(sql_path):\n",
    "    files = []\n",
    "    \n",
    "    path\n",
    "    # r=root, d=directories, f = files\n",
    "    for r, d, f in os.walk(sql_path , topdown=True):\n",
    "        del d[:]\n",
    "        for filename in f:\n",
    "            if filename.endswith('.sql'):\n",
    "                files.append(filename)\n",
    "            else :\n",
    "                pass\n",
    "            \n",
    "    return files"
   ]
  },
  {
   "cell_type": "code",
   "execution_count": 10,
   "metadata": {},
   "outputs": [],
   "source": [
    "sql_file_list = natsorted(list_sql_ssissql_files(sql_path))"
   ]
  },
  {
   "cell_type": "code",
   "execution_count": 11,
   "metadata": {},
   "outputs": [
    {
     "data": {
      "text/plain": [
       "['00_ODSMasterTables_Stage_ODSImportBCDHotelMasterDenodo.sql',\n",
       " '01_ODSMasterTables_Stage_ODSImportBCDHotelMaster_Alter.sql',\n",
       " '02_ODSMasterTables_spgHMFSQL.sql',\n",
       " '03_ODSMasterTables_BCDHotelMaster_Alter.sql',\n",
       " '04a_ODSMasterTables_Stage_spuHotelID.sql',\n",
       " '04b_ODSMasterTables_spiuBCDHotelMaster.sql',\n",
       " '05_ODSMasterTables_Stage_StageODSLkupHotelBCDMaster_Alter.sql',\n",
       " '06_ODSMasterTables_spiStageODSLkupHotelBCDMaster.sql',\n",
       " '07_ConformingDimensions_DimHotelHMF_Alter.sql',\n",
       " '08_ConformingDimensions_spuDimHotelHMFChkSum.sql',\n",
       " '09_ConformingDimensions_spiuDimHotelHMF.sql',\n",
       " '10_PreTripDataMart_DimHotelHMF_Alter.sql',\n",
       " '11_PreTripDataMart_spiuDimHotel.sql',\n",
       " '12_PostTripDM_DimHotelHMF_Alter.sql',\n",
       " '13_PostTripDM_spiuDimHotel.sql',\n",
       " '14_DSCommonLogArchive_OrphanHotel_Alter.sql',\n",
       " '15_ODSMasterTables_spdHotelOrphans.sql',\n",
       " '16_ODSMasterTables_spdHotelOrphansCrashCleanup.sql',\n",
       " '17_PostTripDM_dimHotel.sql',\n",
       " '18_PreTripDataMart_dimHotel.sql',\n",
       " '19_UpdateLanyonID.sql']"
      ]
     },
     "execution_count": 11,
     "metadata": {},
     "output_type": "execute_result"
    }
   ],
   "source": [
    "sql_file_list"
   ]
  },
  {
   "cell_type": "code",
   "execution_count": 13,
   "metadata": {},
   "outputs": [],
   "source": [
    "ssissql_file_list = natsorted(list_sql_ssissql_files(ssissql_path))"
   ]
  },
  {
   "cell_type": "code",
   "execution_count": 14,
   "metadata": {},
   "outputs": [
    {
     "data": {
      "text/plain": [
       "['01_Create Environment Variables.sql',\n",
       " '02_Reference Environment Variables.sql']"
      ]
     },
     "execution_count": 14,
     "metadata": {},
     "output_type": "execute_result"
    }
   ],
   "source": [
    "ssissql_file_list"
   ]
  },
  {
   "cell_type": "code",
   "execution_count": 31,
   "metadata": {},
   "outputs": [],
   "source": [
    "def get_server_name(sql_file_list , sql_path ):\n",
    "    for sql_files in sql_file_list:\n",
    "        sql_files_path = sql_path + f'{sql_files}' \n",
    "        #print(sql_files_path)\n",
    "        file = open(sql_files_path, \"r\")\n",
    "        for line in file:\n",
    "                words = line.strip().split(' ')\n",
    "                print(words[-1])\n",
    "                break\n",
    "        file.close()"
   ]
  },
  {
   "cell_type": "code",
   "execution_count": 26,
   "metadata": {},
   "outputs": [],
   "source": [
    "#get_server_name(sql_file_list , sql_path)"
   ]
  },
  {
   "cell_type": "code",
   "execution_count": 32,
   "metadata": {},
   "outputs": [
    {
     "name": "stdout",
     "output_type": "stream",
     "text": [
      "DSProdSSIS01\n",
      "DSProdSSIS01\n"
     ]
    }
   ],
   "source": [
    "#get_server_name(ssissql_file_list , ssissql_path)"
   ]
  },
  {
   "cell_type": "code",
   "execution_count": 25,
   "metadata": {},
   "outputs": [
    {
     "data": {
      "text/plain": [
       "['01_Create Environment Variables.sql',\n",
       " '02_Reference Environment Variables.sql']"
      ]
     },
     "execution_count": 25,
     "metadata": {},
     "output_type": "execute_result"
    }
   ],
   "source": [
    "ssissql_file_list"
   ]
  },
  {
   "cell_type": "code",
   "execution_count": null,
   "metadata": {},
   "outputs": [],
   "source": [
    "for name in files:\n",
    "                    print(f'###############Execution started############## :: {name}')\n",
    "                    print(f'SQL file Executing ::  \\n')\n",
    "                    try :\n",
    "                        #Function Call \n",
    "                        print(f'###############Execution Ended############## :: {name}')\n",
    "                    except Exception as e :\n",
    "                        print(e)"
   ]
  }
 ],
 "metadata": {
  "kernelspec": {
   "display_name": "Python 3",
   "language": "python",
   "name": "python3"
  },
  "language_info": {
   "codemirror_mode": {
    "name": "ipython",
    "version": 3
   },
   "file_extension": ".py",
   "mimetype": "text/x-python",
   "name": "python",
   "nbconvert_exporter": "python",
   "pygments_lexer": "ipython3",
   "version": "3.7.6"
  }
 },
 "nbformat": 4,
 "nbformat_minor": 4
}
